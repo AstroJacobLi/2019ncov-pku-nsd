{
 "cells": [
  {
   "cell_type": "markdown",
   "metadata": {},
   "source": [
    "## Crawler for Baidu News on 2019-nCoV"
   ]
  },
  {
   "cell_type": "code",
   "execution_count": 2,
   "metadata": {},
   "outputs": [],
   "source": [
    "import requests\n",
    "import numpy as np\n",
    "import pandas as pd\n",
    "import datetime\n",
    "import matplotlib.pyplot as plt"
   ]
  },
  {
   "cell_type": "markdown",
   "metadata": {},
   "source": [
    "`scrapy crawl baidu_news -o baidu_news_疫情_企业_update.csv -a keywords='疫情 企业'`"
   ]
  },
  {
   "cell_type": "code",
   "execution_count": 102,
   "metadata": {},
   "outputs": [],
   "source": [
    "df = pd.read_csv('./crawler/baidu/baidu_news_疫情_企业.csv')\n",
    "df = df.sort_values('time')\n",
    "# delete duplicity\n",
    "_, uniq_index = np.unique(df['title'].values, return_index=True)\n",
    "df = df.iloc[uniq_index][['abstract', 'author', 'time', 'title', 'url']]\n",
    "df[['abstract', 'author', 'time', 'title', \n",
    "    'url']].to_excel('./data/baidu_news_疫情_企业_时间排序.xlsx')"
   ]
  },
  {
   "cell_type": "code",
   "execution_count": 108,
   "metadata": {},
   "outputs": [],
   "source": [
    "df = pd.read_csv('./crawler/baidu/baidu_news_疫情_企业_update.csv')\n",
    "df = df.sort_values('time')\n",
    "# delete duplicity\n",
    "_, uniq_index = np.unique(df['title'].values, return_index=True)\n",
    "df = df.iloc[uniq_index][['abstract', 'author', 'time', 'title', 'url']]\n",
    "df.to_excel('./data/baidu_news_疫情_企业_时间排序_0208以后.xlsx')"
   ]
  },
  {
   "cell_type": "code",
   "execution_count": 109,
   "metadata": {},
   "outputs": [],
   "source": [
    "mask = [np.any([kw in abstract for kw in [\"政策\", \n",
    "                                          \"支持\", \n",
    "                                          \"扶持\", \n",
    "                                          \"帮助\"]]) for abstract in df['abstract'].values]"
   ]
  },
  {
   "cell_type": "code",
   "execution_count": 110,
   "metadata": {},
   "outputs": [],
   "source": [
    "df[mask].to_excel('./data/baidu_news_疫情_企业_0208以后_关键词筛.xlsx')"
   ]
  },
  {
   "cell_type": "code",
   "execution_count": null,
   "metadata": {},
   "outputs": [],
   "source": []
  },
  {
   "cell_type": "code",
   "execution_count": 111,
   "metadata": {},
   "outputs": [],
   "source": [
    "import datetime"
   ]
  },
  {
   "cell_type": "code",
   "execution_count": 114,
   "metadata": {},
   "outputs": [
    {
     "data": {
      "text/plain": [
       "datetime.timedelta(days=25)"
      ]
     },
     "execution_count": 114,
     "metadata": {},
     "output_type": "execute_result"
    }
   ],
   "source": [
    "datetime.datetime(year=2020, month=2, day=11) - datetime.datetime(year=2020, month=1, day=17)"
   ]
  },
  {
   "cell_type": "code",
   "execution_count": null,
   "metadata": {},
   "outputs": [],
   "source": []
  },
  {
   "cell_type": "code",
   "execution_count": null,
   "metadata": {},
   "outputs": [],
   "source": []
  },
  {
   "cell_type": "markdown",
   "metadata": {},
   "source": [
    "### 词频分析"
   ]
  },
  {
   "cell_type": "code",
   "execution_count": 239,
   "metadata": {},
   "outputs": [],
   "source": [
    "import jieba\n",
    "excludes = {\",\", \".\", \"，\", \"。\", \n",
    "            \"\\n\", \"-\", \"“\", \"”\", '\"', \n",
    "            \"：\", \":\", \"；\", \";\", \"？\", \"?\", \n",
    "            \"（\", \"）\", \"(\", \")\", \"！\", \"!\", \n",
    "            \"…\", \" \", \"—\", \"、\", \"|\", \"...\"}\n",
    "# Seperate words using jieba\n",
    "word_list = []\n",
    "for title in df['title']:\n",
    "    seg_list = jieba.cut(title, cut_all=False)\n",
    "    word_list += list(seg_list)\n",
    "    \n",
    "# Count words frequency\n",
    "word_freq = []\n",
    "for w in set(word_list):\n",
    "    word_freq.append(word_list.count(w))\n",
    "    \n",
    "# Drop punctuation marks\n",
    "wc = pd.DataFrame(data=list(zip(list(set(word_list)), word_freq)), columns=['word', 'freq'])\n",
    "for i, word in enumerate(wc['word']):\n",
    "    if word in excludes:\n",
    "        wc.drop(index=i, inplace=True)\n",
    "    elif len(word) == 1:\n",
    "        wc.drop(index=i, inplace=True)\n",
    "        \n",
    "wc.sort_values('freq', ascending=False, inplace=True)"
   ]
  },
  {
   "cell_type": "code",
   "execution_count": 240,
   "metadata": {},
   "outputs": [
    {
     "data": {
      "text/plain": [
       "array(['疫情', '企业', '防控', '抗击', '应对', '支持', '行动', '如何', '中小企业', '期间', '影响',\n",
       "       '出台', '复工', '措施', '之下', '面对', '发展', '中小', '中国', '工作', '助力', '肺炎',\n",
       "       '这些', '担当', '政策', '生产', '爱心', '举措', '武汉', '民营企业', '驰援', '科技', '新型',\n",
       "       '哪些', '众志成城', '复产', '当前', '新冠', '物资', '难关', '面前', '困难', '冠状病毒',\n",
       "       '公司', '发布', '捐赠', '健康', '金融', '员工', '互联网', '自救', '山东', '提供', '服务',\n",
       "       '指南', '全力支持', '责任', '抗疫', '时艰', '广东', '帮助', '不得', '20', '贷款', '多家',\n",
       "       '冲击', '行业', '意见', '什么', '问题', '持续', '支援', '帮扶', '社部', '经营', '保障',\n",
       "       '共克', '安排', '关于', '捐款捐物', '开工', '经济', '十条', '全力', '面临', '就是', '做好',\n",
       "       '正常', '工业', '用工', '高新区', '扶持', '我们', '法律', '捐款', '并举', '汽车', '通知',\n",
       "       '上海', '共渡难关', '北京', '不能', '减负', '方案', '免费', '建议', '时期', '重点', '银行',\n",
       "       '共同', '灵活', '16', '危机', '上班', '压力', '小微', '医疗', '湖北', '各地', '机遇',\n",
       "       '企业家', '感染', '节后', '30', '法院', '推出', '纷纷', '广州', '生存', '福建', '工资',\n",
       "       '优惠', '前线', '全面', '部门', '共抗', '供应', '开除', '利率', '加强', '绿色通道',\n",
       "       '政策措施', '部分', '怎么', '发改委', '渡过', '携手', '技术', '亿元', '国家', '挑战',\n",
       "       '调查', '成都', '好样', '个人', '12', '江西', '这家', '28', '加大', '同心', '家居',\n",
       "       '发文', '多措', '创业', '尽量', '泉州', '硬核', '这样', '时间', '市场', '服务指南',\n",
       "       '十五条', '防疫', '打赢', '股权', '安全', '战胜', '集团', '融资', '进行', '度过', '预案',\n",
       "       '应当', '正在', '无情', '一边', '战疫', '补贴', '线上', '有情', '万元', '在线', '央行',\n",
       "       '赋能', '积极', '对受', '管理', '风险', '权威'], dtype=object)"
      ]
     },
     "execution_count": 240,
     "metadata": {},
     "output_type": "execute_result"
    }
   ],
   "source": [
    "wc['word'].values[:200]"
   ]
  },
  {
   "cell_type": "code",
   "execution_count": null,
   "metadata": {},
   "outputs": [],
   "source": []
  },
  {
   "cell_type": "code",
   "execution_count": 241,
   "metadata": {},
   "outputs": [],
   "source": [
    "import jieba\n",
    "excludes = {\",\", \".\", \"，\", \"。\", \n",
    "            \"\\n\", \"-\", \"“\", \"”\", '\"', \n",
    "            \"：\", \":\", \"；\", \";\", \"？\", \"?\", \n",
    "            \"（\", \"）\", \"(\", \")\", \"！\", \"!\", \n",
    "            \"…\", \" \", \"—\", \"、\", \"|\", \"...\"}\n",
    "# Seperate words using jieba\n",
    "word_list = []\n",
    "for title in df['abstract']:\n",
    "    seg_list = jieba.cut(title, cut_all=False)\n",
    "    word_list += list(seg_list)\n",
    "    \n",
    "# Count words frequency\n",
    "word_freq = []\n",
    "for w in set(word_list):\n",
    "    word_freq.append(word_list.count(w))\n",
    "    \n",
    "# Drop punctuation marks\n",
    "wc = pd.DataFrame(data=list(zip(list(set(word_list)), word_freq)), columns=['word', 'freq'])\n",
    "for i, word in enumerate(wc['word']):\n",
    "    if word in excludes:\n",
    "        wc.drop(index=i, inplace=True)\n",
    "    elif len(word) == 1:\n",
    "        wc.drop(index=i, inplace=True)\n",
    "        \n",
    "wc.sort_values('freq', ascending=False, inplace=True)"
   ]
  },
  {
   "cell_type": "code",
   "execution_count": 243,
   "metadata": {},
   "outputs": [
    {
     "data": {
      "text/plain": [
       "array(['疫情', '企业', '防控', '肺炎', '新型', '冠状病毒', '工作', '支持', '感染', '影响', '生产',\n",
       "       '抗击', '期间', '复工', '发展', '应对', '关于', '物资', '中小', '全国', '保障', '积极',\n",
       "       '社会', '经营', '行业', '相关', '我们', '中国', '措施', '面对', '通知', '责任', '记者',\n",
       "       '武汉', '做好', '经济', '2020', '员工', '发布', '服务', '困难', '出台', '时间', '如何',\n",
       "       '部署', '健康', '春节', '牵动', '政策', '新冠', '科技', '通过', '医疗', '人民', '打赢',\n",
       "       '重要', '提供', '这场', '一线', '国家', '发生', '中小企业', '蔓延', '帮助', '问题', '决策',\n",
       "       '带来', '国务院', '行动', '公司', '面临', '口罩', '政府', '北京', '纷纷', '党中央', '捐赠',\n",
       "       '要求', '当前', '防疫', '应急', '全力', '捐款捐物', '组织', '需要', '重点', '湖北', '各地',\n",
       "       '爱心', '阻击战', '加大', '情况', '持续', '可以', '同时', '若干', '方式', '贷款', '集团',\n",
       "       '方面', '复产', '互联网', '正常', '延迟', '开工', '为了', '银行', '稳定', '金融',\n",
       "       '贯彻落实', '新闻', '万元', '连日来', '融资', '以来', '对于', '资金', '坚决', '防护',\n",
       "       '很多', '职工', '支援', '作为', '助力', '针对', '这些', '有限公司', '有关', '担当', '加强',\n",
       "       '时期', '导致', '全面', '冲击', '关注', '24', '30', '调整', '进行', '31', '安排',\n",
       "       '就是', '以及', '这次', '多家', '市场', '力量', '省政府', '已经', '民营', '进一步', '随着',\n",
       "       '办公', '人员', '全市', '小微', '发挥', '包括', '目前', '政策措施', '以下', '一个', '地区',\n",
       "       '各类', '企业家', '部门', '一场', '印发', '安全', '此次', '根据', '标题', '响应', '餐饮',\n",
       "       '深入', '严峻', '制定', '恢复', '免费', '本市', '特别', '成为', '近日', '造成', '全面落实',\n",
       "       '举措', '一些', '紧急', '因为', '日电', '优势', '平稳', '采取', '突如其来', '面前', '有效',\n",
       "       '之下', '第一', '医用', '百度'], dtype=object)"
      ]
     },
     "execution_count": 243,
     "metadata": {},
     "output_type": "execute_result"
    }
   ],
   "source": [
    "wc['word'].values[:200]"
   ]
  },
  {
   "cell_type": "code",
   "execution_count": null,
   "metadata": {},
   "outputs": [],
   "source": []
  }
 ],
 "metadata": {
  "kernelspec": {
   "display_name": "Python 3",
   "language": "python",
   "name": "python3"
  },
  "language_info": {
   "codemirror_mode": {
    "name": "ipython",
    "version": 3
   },
   "file_extension": ".py",
   "mimetype": "text/x-python",
   "name": "python",
   "nbconvert_exporter": "python",
   "pygments_lexer": "ipython3",
   "version": "3.7.0"
  }
 },
 "nbformat": 4,
 "nbformat_minor": 2
}
