{
 "cells": [
  {
   "cell_type": "code",
   "execution_count": 1,
   "metadata": {},
   "outputs": [],
   "source": [
    "import numpy as np\n",
    "import pandas as pd"
   ]
  },
  {
   "cell_type": "code",
   "execution_count": 5,
   "metadata": {},
   "outputs": [
    {
     "data": {
      "text/plain": [
       "['黑龙江省',\n",
       " '北京市',\n",
       " '宁夏回族自治区',\n",
       " '辽宁省',\n",
       " '广东省',\n",
       " '山西省',\n",
       " '重庆市',\n",
       " '福建省',\n",
       " '天津市',\n",
       " '江西省',\n",
       " '贵州省',\n",
       " '安徽省',\n",
       " '内蒙古自治区',\n",
       " '西藏自治区',\n",
       " '四川省',\n",
       " '陕西省',\n",
       " '湖南省',\n",
       " '澳门',\n",
       " '江苏省',\n",
       " '湖北省',\n",
       " '上海市',\n",
       " '甘肃省',\n",
       " '海南省',\n",
       " '广西壮族自治区',\n",
       " '台湾',\n",
       " '河南省',\n",
       " '香港',\n",
       " '山东省',\n",
       " '云南省',\n",
       " '青海省',\n",
       " '河北省',\n",
       " '吉林省',\n",
       " '新疆维吾尔自治区',\n",
       " '浙江省']"
      ]
     },
     "execution_count": 5,
     "metadata": {},
     "output_type": "execute_result"
    }
   ],
   "source": [
    "df = pd.read_csv('./feizhu/city_data.csv')\n",
    "list(set(df['province'].values))"
   ]
  },
  {
   "cell_type": "code",
   "execution_count": null,
   "metadata": {},
   "outputs": [],
   "source": []
  }
 ],
 "metadata": {
  "kernelspec": {
   "display_name": "Python 3",
   "language": "python",
   "name": "python3"
  },
  "language_info": {
   "codemirror_mode": {
    "name": "ipython",
    "version": 3
   },
   "file_extension": ".py",
   "mimetype": "text/x-python",
   "name": "python",
   "nbconvert_exporter": "python",
   "pygments_lexer": "ipython3",
   "version": "3.7.0"
  }
 },
 "nbformat": 4,
 "nbformat_minor": 2
}
